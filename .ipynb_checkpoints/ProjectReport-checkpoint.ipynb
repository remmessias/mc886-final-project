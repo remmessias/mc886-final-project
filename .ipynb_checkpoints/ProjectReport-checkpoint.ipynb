{
 "cells": [
  {
   "cell_type": "raw",
   "metadata": {},
   "source": [
    "MC886 - Machine Learning\n",
    "\n",
    "Project 4 - Sustainable Development Goal - Education\n",
    "\n",
    "André Soranzzo Mota RA: 166404\n",
    "Diego André Pedro RA: 166542\n",
    "Gabriel Akahoshi Collado RA: 197141\n",
    "Rebecca Moreira Messias RA: 186416\n",
    "\n",
    "\n",
    "                                                        I - Project Idea and Source Data\n",
    "\n",
    "\n",
    "    For this project we decided to develop a solution to aid in providing quality education in Brazil. To determine the factors that compose this quality, we searched the database source of IBGE for quantitative measures, and in such we found a multitude of values.\n",
    "    To handle this education measuring values, we opted to divide each into a group, based on their likeness, that would constitute a score:\n",
    "\n",
    "    Governanca: This group comprises values that measure the government competence in providing funds and decisions geared towards the overall betterment of the education system in Brazil.\n",
    "\n",
    "    Inserção Populacional: Values that encompass the populational engagement and forthright learning intention when in a educational environment, including student's school evasion and class frequency.\n",
    "\n",
    "    Capacitação Educacional: In this group we placed values that measure the effectiveness of the current educational system, in terms of combating analfabetism and graduating the populace.\n",
    "\n",
    "    The calculation of the scores was based on the scale of the values themselves. Since our values used were all in percentage format, a sum of these values would make for a cumulative score across the years evaluated (from 2000 to 2020) contributing positively or negatively based on whether it was a improvement or not to the education system.\n",
    "    At first, we decided to point our solution towards measuring the primary and secondary school's completion and the analfabetism rate of teens and adults since these are points depicted in the ONU article regarding our project goal.\n",
    "\n",
    "\n",
    "                                                            II - The Strategy\n",
    "\n",
    "\n",
    "    After composing our features based on the scores aforementioned, the next step was to predict their evolution until 2030. But not only to predict, our group also decided on finding the best possible political party that showed the greatest improvement over their ruling years. This came to be our focus in proposing the project solution.\n",
    "    To find the most optimal party for improving the educational system we used the regression strategy for the scores calculated. By having each year's political party president and education minister it was possible to retain their effect on each individual score, thus it could provide a substantial boost towards that party in the coming elections, given the fact that it would diminish the effect of fake news regarding the subject by our project having a reputable source (IBGE).\n",
    "\n",
    "                                                            III - The Algorithm"
   ]
  }
 ],
 "metadata": {
  "kernelspec": {
   "display_name": "Python 3",
   "language": "python",
   "name": "python3"
  },
  "language_info": {
   "codemirror_mode": {
    "name": "ipython",
    "version": 3
   },
   "file_extension": ".py",
   "mimetype": "text/x-python",
   "name": "python",
   "nbconvert_exporter": "python",
   "pygments_lexer": "ipython3",
   "version": "3.6.9"
  }
 },
 "nbformat": 4,
 "nbformat_minor": 4
}
